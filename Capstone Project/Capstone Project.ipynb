{
 "cells": [
  {
   "cell_type": "markdown",
   "metadata": {},
   "source": [
    "#### 1. Explore and Assess the Data"
   ]
  },
  {
   "cell_type": "markdown",
   "metadata": {},
   "source": [
    "#####  1-A Import the libraries"
   ]
  },
  {
   "cell_type": "code",
   "execution_count": 1,
   "metadata": {},
   "outputs": [],
   "source": [
    "# declare necessary imports\n",
    "import pandas as pd\n",
    "import glob\n",
    "import configparser\n",
    "from datetime import datetime\n",
    "import pyspark.sql.functions as F\n",
    "import os\n",
    "from pyspark.sql import SparkSession\n",
    "from pyspark.sql.functions import udf, col\n",
    "from pyspark.sql.functions import year, month, dayofmonth, hour, weekofyear, date_format\n",
    "import pyspark.sql.functions as F\n",
    "from pyspark.sql.types import IntegerType\n",
    "from pyspark.sql.types import DateType\n",
    "from pyspark.sql import SparkSession, SQLContext, GroupedData\n",
    "from pyspark.sql.functions import udf\n",
    "from pyspark.sql.types import StringType"
   ]
  },
  {
   "cell_type": "code",
   "execution_count": 2,
   "metadata": {},
   "outputs": [],
   "source": [
    "#dedclaring an output folder- where the fact and dimension tables will be saved\n",
    "output = \"output\""
   ]
  },
  {
   "cell_type": "code",
   "execution_count": 3,
   "metadata": {},
   "outputs": [],
   "source": [
    "#initiate spark session\n",
    "spark = SparkSession \\\n",
    "        .builder \\\n",
    "        .config(\"spark.jars.packages\", \"org.apache.hadoop:hadoop-aws:2.7.0\") \\\n",
    "        .getOrCreate()"
   ]
  },
  {
   "cell_type": "code",
   "execution_count": 4,
   "metadata": {},
   "outputs": [],
   "source": [
    "from immigration_codes import country_udf"
   ]
  },
  {
   "cell_type": "markdown",
   "metadata": {},
   "source": [
    "###  2. Explore the Immigration Data"
   ]
  },
  {
   "cell_type": "markdown",
   "metadata": {},
   "source": [
    " ####  2-A Read the Immigration Data"
   ]
  },
  {
   "cell_type": "code",
   "execution_count": 5,
   "metadata": {},
   "outputs": [],
   "source": [
    "# read the immigration as a dataframe from the sas_data folder\n",
    "path = \"sas_data\"\n",
    "df_im = spark.read.parquet(path)"
   ]
  },
  {
   "cell_type": "code",
   "execution_count": 6,
   "metadata": {},
   "outputs": [
    {
     "name": "stdout",
     "output_type": "stream",
     "text": [
      "root\n",
      " |-- cicid: double (nullable = true)\n",
      " |-- i94yr: double (nullable = true)\n",
      " |-- i94mon: double (nullable = true)\n",
      " |-- i94cit: double (nullable = true)\n",
      " |-- i94res: double (nullable = true)\n",
      " |-- i94port: string (nullable = true)\n",
      " |-- arrdate: double (nullable = true)\n",
      " |-- i94mode: double (nullable = true)\n",
      " |-- i94addr: string (nullable = true)\n",
      " |-- depdate: double (nullable = true)\n",
      " |-- i94bir: double (nullable = true)\n",
      " |-- i94visa: double (nullable = true)\n",
      " |-- count: double (nullable = true)\n",
      " |-- dtadfile: string (nullable = true)\n",
      " |-- visapost: string (nullable = true)\n",
      " |-- occup: string (nullable = true)\n",
      " |-- entdepa: string (nullable = true)\n",
      " |-- entdepd: string (nullable = true)\n",
      " |-- entdepu: string (nullable = true)\n",
      " |-- matflag: string (nullable = true)\n",
      " |-- biryear: double (nullable = true)\n",
      " |-- dtaddto: string (nullable = true)\n",
      " |-- gender: string (nullable = true)\n",
      " |-- insnum: string (nullable = true)\n",
      " |-- airline: string (nullable = true)\n",
      " |-- admnum: double (nullable = true)\n",
      " |-- fltno: string (nullable = true)\n",
      " |-- visatype: string (nullable = true)\n",
      "\n"
     ]
    }
   ],
   "source": [
    "#see the datatype of the dataframe\n",
    "df_im.printSchema()"
   ]
  },
  {
   "cell_type": "markdown",
   "metadata": {},
   "source": [
    " ####  2-B. Data Quality Issues of Immigration Data\n"
   ]
  },
  {
   "cell_type": "markdown",
   "metadata": {},
   "source": [
    " **Data Quality Issue-1**: Column names are not descriptive and therefore difficult to understand.    \n",
    "    "
   ]
  },
  {
   "cell_type": "code",
   "execution_count": 7,
   "metadata": {},
   "outputs": [],
   "source": [
    "#select the required columns and adjust the column headers to more desriptive ones\n",
    "df_im = df_im.select(col(\"i94yr\").alias(\"immigration_yr\"),\n",
    "                     col(\"i94mon\").alias(\"immigration_month\"),\n",
    "                     col(\"i94res\").alias(\"country_of_origin\"),\n",
    "                     col(\"i94addr\").alias(\"state_code\"),\n",
    "                     col('biryear').alias(\"birth_year\"),\n",
    "                     col('gender')\n",
    "                    )"
   ]
  },
  {
   "cell_type": "code",
   "execution_count": 8,
   "metadata": {},
   "outputs": [
    {
     "name": "stdout",
     "output_type": "stream",
     "text": [
      "+--------------+-----------------+-----------------+----------+----------+------+\n",
      "|immigration_yr|immigration_month|country_of_origin|state_code|birth_year|gender|\n",
      "+--------------+-----------------+-----------------+----------+----------+------+\n",
      "|        2016.0|              4.0|            438.0|        CA|    1976.0|     F|\n",
      "|        2016.0|              4.0|            438.0|        NV|    1984.0|     F|\n",
      "|        2016.0|              4.0|            438.0|        WA|    1987.0|     M|\n",
      "+--------------+-----------------+-----------------+----------+----------+------+\n",
      "only showing top 3 rows\n",
      "\n"
     ]
    }
   ],
   "source": [
    "#show the first five rows to see the new dataframe with the selected columns\n",
    "df_im.show(3)"
   ]
  },
  {
   "cell_type": "code",
   "execution_count": 10,
   "metadata": {},
   "outputs": [
    {
     "name": "stdout",
     "output_type": "stream",
     "text": [
      "root\n",
      " |-- immigration_yr: double (nullable = true)\n",
      " |-- immigration_month: double (nullable = true)\n",
      " |-- country_of_origin: double (nullable = true)\n",
      " |-- state_code: string (nullable = true)\n",
      " |-- birth_year: double (nullable = true)\n",
      " |-- gender: string (nullable = true)\n",
      "\n"
     ]
    }
   ],
   "source": [
    "#see the current state of the dataframe columns and the datatype\n",
    "df_im.printSchema()"
   ]
  },
  {
   "cell_type": "markdown",
   "metadata": {},
   "source": [
    " **Data Quality Issue-2**: Some of the datatypes are not appropriate. \n"
   ]
  },
  {
   "cell_type": "code",
   "execution_count": 11,
   "metadata": {},
   "outputs": [],
   "source": [
    "#change the datatype of the dataframe\n",
    "df_im = df_im.withColumn(\"immigration_yr\", df_im[\"immigration_yr\"].cast('int'))\\\n",
    "             .withColumn(\"immigration_month\", df_im[\"immigration_month\"].cast('int'))\\\n",
    "             .withColumn(\"country_of_origin\", df_im[\"country_of_origin\"].cast('int'))\\\n",
    "             .withColumn(\"birth_year\", df_im[\"birth_year\"].cast('int'))"
   ]
  },
  {
   "cell_type": "code",
   "execution_count": 12,
   "metadata": {},
   "outputs": [
    {
     "name": "stdout",
     "output_type": "stream",
     "text": [
      "root\n",
      " |-- immigration_yr: integer (nullable = true)\n",
      " |-- immigration_month: integer (nullable = true)\n",
      " |-- country_of_origin: integer (nullable = true)\n",
      " |-- state_code: string (nullable = true)\n",
      " |-- birth_year: integer (nullable = true)\n",
      " |-- gender: string (nullable = true)\n",
      "\n"
     ]
    }
   ],
   "source": [
    "#see the impact of the datatype conversion\n",
    "df_im.printSchema()"
   ]
  },
  {
   "cell_type": "code",
   "execution_count": 13,
   "metadata": {},
   "outputs": [
    {
     "name": "stdout",
     "output_type": "stream",
     "text": [
      "+--------------+-----------------+-----------------+----------+----------+------+\n",
      "|immigration_yr|immigration_month|country_of_origin|state_code|birth_year|gender|\n",
      "+--------------+-----------------+-----------------+----------+----------+------+\n",
      "|          2016|                4|              438|        CA|      1976|     F|\n",
      "|          2016|                4|              438|        NV|      1984|     F|\n",
      "|          2016|                4|              438|        WA|      1987|     M|\n",
      "+--------------+-----------------+-----------------+----------+----------+------+\n",
      "only showing top 3 rows\n",
      "\n"
     ]
    }
   ],
   "source": [
    "#see the first two rows \n",
    "df_im.show(3)"
   ]
  },
  {
   "cell_type": "markdown",
   "metadata": {},
   "source": [
    " **Data Quality Issue-3**: We shall check if the dataframe has null and duplicate values. If there are null and duplicate values, we shall remove them"
   ]
  },
  {
   "cell_type": "code",
   "execution_count": 14,
   "metadata": {},
   "outputs": [
    {
     "data": {
      "text/plain": [
       "(3096313, 6)"
      ]
     },
     "execution_count": 14,
     "metadata": {},
     "output_type": "execute_result"
    }
   ],
   "source": [
    "# count the number of rows and columns\n",
    "df_im.count(), len(df_im.columns)"
   ]
  },
  {
   "cell_type": "code",
   "execution_count": 15,
   "metadata": {},
   "outputs": [
    {
     "name": "stdout",
     "output_type": "stream",
     "text": [
      "+--------------+-----------------+-----------------+----------+----------+------+\n",
      "|immigration_yr|immigration_month|country_of_origin|state_code|birth_year|gender|\n",
      "+--------------+-----------------+-----------------+----------+----------+------+\n",
      "|             0|                0|                0|    152592|       802|414269|\n",
      "+--------------+-----------------+-----------------+----------+----------+------+\n",
      "\n"
     ]
    }
   ],
   "source": [
    "#count the number of null values in the dataframe\n",
    "df_null_count_new = df_im.agg(*[F.count(F.when(F.isnull(c), c)).alias(c) for c in df_im.columns])\n",
    "\n",
    "#show the total number of null values per column\n",
    "df_null_count_new.show()"
   ]
  },
  {
   "cell_type": "markdown",
   "metadata": {},
   "source": [
    "**Note:** There are null values in the state_code, birth_year and the gender columns. We would like to get rid of all the rows with null values."
   ]
  },
  {
   "cell_type": "code",
   "execution_count": 16,
   "metadata": {},
   "outputs": [],
   "source": [
    "#remove null and duplicate values \n",
    "df_im = df_im.na.drop().dropDuplicates()"
   ]
  },
  {
   "cell_type": "code",
   "execution_count": 17,
   "metadata": {},
   "outputs": [
    {
     "name": "stdout",
     "output_type": "stream",
     "text": [
      "+--------------+-----------------+-----------------+----------+----------+------+\n",
      "|immigration_yr|immigration_month|country_of_origin|state_code|birth_year|gender|\n",
      "+--------------+-----------------+-----------------+----------+----------+------+\n",
      "|             0|                0|                0|         0|         0|     0|\n",
      "+--------------+-----------------+-----------------+----------+----------+------+\n",
      "\n"
     ]
    }
   ],
   "source": [
    "#count the number of null values in the dataframe\n",
    "df_null_count_new = df_im.agg(*[F.count(F.when(F.isnull(c), c)).alias(c) for c in df_im.columns])\n",
    "\n",
    "#show the total number of null values per column- should return 0 as we have removed the null values\n",
    "df_null_count_new.show()"
   ]
  },
  {
   "cell_type": "code",
   "execution_count": 18,
   "metadata": {},
   "outputs": [
    {
     "data": {
      "text/plain": [
       "262636"
      ]
     },
     "execution_count": 18,
     "metadata": {},
     "output_type": "execute_result"
    }
   ],
   "source": [
    "#show the number of rows after we have removed the null and the duplicates\n",
    "df_im.count()"
   ]
  },
  {
   "cell_type": "code",
   "execution_count": 19,
   "metadata": {},
   "outputs": [
    {
     "name": "stdout",
     "output_type": "stream",
     "text": [
      "+--------------+-----------------+-----------------+----------+----------+------+\n",
      "|immigration_yr|immigration_month|country_of_origin|state_code|birth_year|gender|\n",
      "+--------------+-----------------+-----------------+----------+----------+------+\n",
      "|          2016|                4|              251|        NY|      1985|     F|\n",
      "|          2016|                4|              276|        MI|      1980|     M|\n",
      "|          2016|                4|              276|        NY|      1964|     F|\n",
      "|          2016|                4|              276|        NJ|      1945|     F|\n",
      "|          2016|                4|              276|        NY|      1936|     M|\n",
      "+--------------+-----------------+-----------------+----------+----------+------+\n",
      "only showing top 5 rows\n",
      "\n"
     ]
    }
   ],
   "source": [
    "#show the 05 rows of the dataframe to observe the current status of the dataframe\n",
    "df_im.show(5)"
   ]
  },
  {
   "cell_type": "code",
   "execution_count": 20,
   "metadata": {},
   "outputs": [],
   "source": [
    "#import function from immigration_codes.py file\n",
    "from immigration_codes import country_udf"
   ]
  },
  {
   "cell_type": "code",
   "execution_count": 21,
   "metadata": {},
   "outputs": [],
   "source": [
    "#extract the name of the country from the country_of_origin column\n",
    "df_im = df_im.withColumn(\"country_of_origin\", country_udf(df_im[\"country_of_origin\"]))"
   ]
  },
  {
   "cell_type": "code",
   "execution_count": 22,
   "metadata": {},
   "outputs": [
    {
     "name": "stdout",
     "output_type": "stream",
     "text": [
      "root\n",
      " |-- immigration_yr: integer (nullable = true)\n",
      " |-- immigration_month: integer (nullable = true)\n",
      " |-- country_of_origin: string (nullable = true)\n",
      " |-- state_code: string (nullable = true)\n",
      " |-- birth_year: integer (nullable = true)\n",
      " |-- gender: string (nullable = true)\n",
      "\n"
     ]
    }
   ],
   "source": [
    "#show the 5 rows of the dataframe \n",
    "df_im.printSchema()"
   ]
  },
  {
   "cell_type": "code",
   "execution_count": 23,
   "metadata": {},
   "outputs": [
    {
     "name": "stdout",
     "output_type": "stream",
     "text": [
      "+--------------+-----------------+-----------------+----------+----------+------+\n",
      "|immigration_yr|immigration_month|country_of_origin|state_code|birth_year|gender|\n",
      "+--------------+-----------------+-----------------+----------+----------+------+\n",
      "|          2016|                4|           ISRAEL|        NY|      1985|     F|\n",
      "|          2016|                4|      SOUTH KOREA|        MI|      1980|     M|\n",
      "|          2016|                4|      SOUTH KOREA|        NY|      1964|     F|\n",
      "|          2016|                4|      SOUTH KOREA|        NJ|      1945|     F|\n",
      "|          2016|                4|      SOUTH KOREA|        NY|      1936|     M|\n",
      "+--------------+-----------------+-----------------+----------+----------+------+\n",
      "only showing top 5 rows\n",
      "\n"
     ]
    }
   ],
   "source": [
    "#show the first five wors of the dataframe to see if the country_of_origin has been converted \n",
    "df_im.show(5)"
   ]
  },
  {
   "cell_type": "markdown",
   "metadata": {},
   "source": [
    "**Note:** Now the immigration data is ready to be used as we have cleaned it."
   ]
  },
  {
   "cell_type": "markdown",
   "metadata": {},
   "source": [
    "###  3. Explore the US Cities Demographics"
   ]
  },
  {
   "cell_type": "markdown",
   "metadata": {},
   "source": [
    "####  3-A.  Read the US City Demographies Data"
   ]
  },
  {
   "cell_type": "code",
   "execution_count": 24,
   "metadata": {},
   "outputs": [],
   "source": [
    "#dataframe for the US city demographies data\n",
    "df_demo = spark.read.csv('us-cities-demographics.csv', header=True, mode=\"DROPMALFORMED\", sep = ';')"
   ]
  },
  {
   "cell_type": "code",
   "execution_count": 25,
   "metadata": {},
   "outputs": [
    {
     "name": "stdout",
     "output_type": "stream",
     "text": [
      "root\n",
      " |-- City: string (nullable = true)\n",
      " |-- State: string (nullable = true)\n",
      " |-- Median Age: string (nullable = true)\n",
      " |-- Male Population: string (nullable = true)\n",
      " |-- Female Population: string (nullable = true)\n",
      " |-- Total Population: string (nullable = true)\n",
      " |-- Number of Veterans: string (nullable = true)\n",
      " |-- Foreign-born: string (nullable = true)\n",
      " |-- Average Household Size: string (nullable = true)\n",
      " |-- State Code: string (nullable = true)\n",
      " |-- Race: string (nullable = true)\n",
      " |-- Count: string (nullable = true)\n",
      "\n"
     ]
    }
   ],
   "source": [
    "#show the columns and the datatype of the dataframe columns \n",
    "df_demo.printSchema()"
   ]
  },
  {
   "cell_type": "markdown",
   "metadata": {},
   "source": [
    "####  3-B.  Data Quality Issues\n",
    "\n",
    "**Data Quality Issue-1:** There are inappropriate data types: for instance median age is string.\n",
    "\n",
    "**Data Quality Issue-2:** There is space in the column headers name and mixture of capital and small letters which is at times seems difficult to read. \n",
    "\n",
    "We shall now handle all these data quality issues below.\n"
   ]
  },
  {
   "cell_type": "code",
   "execution_count": 26,
   "metadata": {},
   "outputs": [],
   "source": [
    "#select the needed column required for our analysis- City, State, Median Age, Foreign-born, State Code and Race\n",
    "#Change the names as appropriate\n",
    "#change the data type for the state_code and the median_age\n",
    "\n",
    "df_demo = df_demo.select(col(\"City\").alias(\"city\"),\n",
    "                         col(\"State\").alias(\"state\"),\n",
    "                         col(\"Median Age\").alias(\"median_age\").cast('float'),\n",
    "                         col(\"Foreign-born\").alias(\"foreign_born\").cast('int'),\n",
    "                         col(\"State Code\").alias(\"state_code\"),\n",
    "                         col(\"Race\").alias(\"race\"),\n",
    "                         )"
   ]
  },
  {
   "cell_type": "code",
   "execution_count": 27,
   "metadata": {},
   "outputs": [
    {
     "name": "stdout",
     "output_type": "stream",
     "text": [
      "+----------------+-------------+----------+------------+----------+--------------------+\n",
      "|            city|        state|median_age|foreign_born|state_code|                race|\n",
      "+----------------+-------------+----------+------------+----------+--------------------+\n",
      "|   Silver Spring|     Maryland|      33.8|       30908|        MD|  Hispanic or Latino|\n",
      "|          Quincy|Massachusetts|      41.0|       32935|        MA|               White|\n",
      "|          Hoover|      Alabama|      38.5|        8229|        AL|               Asian|\n",
      "|Rancho Cucamonga|   California|      34.5|       33878|        CA|Black or African-...|\n",
      "|          Newark|   New Jersey|      34.6|       86253|        NJ|               White|\n",
      "+----------------+-------------+----------+------------+----------+--------------------+\n",
      "only showing top 5 rows\n",
      "\n"
     ]
    }
   ],
   "source": [
    "# see the dataframe to observe the column header changes\n",
    "df_demo.show(5)"
   ]
  },
  {
   "cell_type": "code",
   "execution_count": 28,
   "metadata": {},
   "outputs": [
    {
     "name": "stdout",
     "output_type": "stream",
     "text": [
      "root\n",
      " |-- city: string (nullable = true)\n",
      " |-- state: string (nullable = true)\n",
      " |-- median_age: float (nullable = true)\n",
      " |-- foreign_born: integer (nullable = true)\n",
      " |-- state_code: string (nullable = true)\n",
      " |-- race: string (nullable = true)\n",
      "\n"
     ]
    }
   ],
   "source": [
    "#see the impace of column header and data type changes\n",
    "df_demo.printSchema()"
   ]
  },
  {
   "cell_type": "markdown",
   "metadata": {},
   "source": [
    " **Data Quality Issue-3**: The dataframe has null values. We shall now remove the null values along with the duplicate values."
   ]
  },
  {
   "cell_type": "code",
   "execution_count": 29,
   "metadata": {},
   "outputs": [
    {
     "name": "stdout",
     "output_type": "stream",
     "text": [
      "+----+-----+----------+------------+----------+----+\n",
      "|city|state|median_age|foreign_born|state_code|race|\n",
      "+----+-----+----------+------------+----------+----+\n",
      "|   0|    0|         0|          13|         0|   0|\n",
      "+----+-----+----------+------------+----------+----+\n",
      "\n"
     ]
    }
   ],
   "source": [
    "#count the number of null values in the dataframe\n",
    "df_null_count_new = df_demo.agg(*[F.count(F.when(F.isnull(c), c)).alias(c) for c in df_demo.columns])\n",
    "\n",
    "#show the total number of null values per column\n",
    "df_null_count_new.show()"
   ]
  },
  {
   "cell_type": "code",
   "execution_count": 30,
   "metadata": {},
   "outputs": [
    {
     "data": {
      "text/plain": [
       "(2891, 6)"
      ]
     },
     "execution_count": 30,
     "metadata": {},
     "output_type": "execute_result"
    }
   ],
   "source": [
    "# count the number of rows and columns\n",
    "df_demo.count(), len(df_demo.columns)"
   ]
  },
  {
   "cell_type": "code",
   "execution_count": 31,
   "metadata": {},
   "outputs": [],
   "source": [
    "#remove null and duplicate values \n",
    "df_demo = df_demo.na.drop().dropDuplicates()"
   ]
  },
  {
   "cell_type": "code",
   "execution_count": 32,
   "metadata": {},
   "outputs": [
    {
     "name": "stdout",
     "output_type": "stream",
     "text": [
      "+----+-----+----------+------------+----------+----+\n",
      "|city|state|median_age|foreign_born|state_code|race|\n",
      "+----+-----+----------+------------+----------+----+\n",
      "|   0|    0|         0|           0|         0|   0|\n",
      "+----+-----+----------+------------+----------+----+\n",
      "\n"
     ]
    }
   ],
   "source": [
    "#count the number of null values in the dataframe\n",
    "df_null_count_new = df_demo.agg(*[F.count(F.when(F.isnull(c), c)).alias(c) for c in df_demo.columns])\n",
    "\n",
    "#show the total number of null values per column- should return 0 as we have dropped the null values\n",
    "df_null_count_new.show()"
   ]
  },
  {
   "cell_type": "code",
   "execution_count": 33,
   "metadata": {},
   "outputs": [
    {
     "name": "stdout",
     "output_type": "stream",
     "text": [
      "+------------+-------------+----------+------------+----------+--------------------+\n",
      "|        city|        state|median_age|foreign_born|state_code|                race|\n",
      "+------------+-------------+----------+------------+----------+--------------------+\n",
      "|        Lynn|Massachusetts|      34.8|       29899|        MA|               Asian|\n",
      "| Gainesville|      Florida|      26.0|       15272|        FL|American Indian a...|\n",
      "|  Springdale|     Arkansas|      31.8|       19969|        AR|  Hispanic or Latino|\n",
      "| New Orleans|    Louisiana|      35.9|       21679|        LA|               White|\n",
      "|Murfreesboro|    Tennessee|      30.2|        8948|        TN|               Asian|\n",
      "+------------+-------------+----------+------------+----------+--------------------+\n",
      "only showing top 5 rows\n",
      "\n"
     ]
    }
   ],
   "source": [
    "#show the new dataframe \n",
    "df_demo.show(5)"
   ]
  },
  {
   "cell_type": "code",
   "execution_count": 34,
   "metadata": {},
   "outputs": [
    {
     "data": {
      "text/plain": [
       "(2878, 6)"
      ]
     },
     "execution_count": 34,
     "metadata": {},
     "output_type": "execute_result"
    }
   ],
   "source": [
    "# count the number of rows and columns\n",
    "df_demo.count(), len(df_demo.columns)"
   ]
  },
  {
   "cell_type": "code",
   "execution_count": 35,
   "metadata": {},
   "outputs": [
    {
     "name": "stdout",
     "output_type": "stream",
     "text": [
      "root\n",
      " |-- city: string (nullable = true)\n",
      " |-- state: string (nullable = true)\n",
      " |-- median_age: float (nullable = true)\n",
      " |-- foreign_born: integer (nullable = true)\n",
      " |-- state_code: string (nullable = true)\n",
      " |-- race: string (nullable = true)\n",
      "\n"
     ]
    }
   ],
   "source": [
    "#show the name of the columns and the data type\n",
    "df_demo.printSchema()"
   ]
  },
  {
   "cell_type": "markdown",
   "metadata": {},
   "source": [
    "###  4. Define the Conceptual Data Model"
   ]
  },
  {
   "cell_type": "markdown",
   "metadata": {},
   "source": [
    "#### 4-A Star Schema\n",
    "##### Dimension Tables\n",
    "\n",
    "+ immigration_table : year, month, country_of_origin, state_code, birth_year, gender\n",
    "\n",
    "+ demographics_table : city, state, median_age, number_of_immigrants, state_code, & race\n",
    "\n",
    "\n",
    "\n",
    "##### Fact Table\n",
    "\n",
    "+ immigration_impact_table : state, new_immigrant_per_state, total_immigrants_per_state"
   ]
  },
  {
   "cell_type": "markdown",
   "metadata": {},
   "source": [
    "#### 4.A Dimension Tables"
   ]
  },
  {
   "cell_type": "markdown",
   "metadata": {},
   "source": [
    "#### 4.A.1 Dimension Table-1\n",
    "\n",
    "+ immigration_table:  year, month, country_of_origin, state_code, birth_year, gender"
   ]
  },
  {
   "cell_type": "code",
   "execution_count": 36,
   "metadata": {},
   "outputs": [
    {
     "name": "stdout",
     "output_type": "stream",
     "text": [
      "+--------------+-----------------+-----------------+----------+----------+------+\n",
      "|immigration_yr|immigration_month|country_of_origin|state_code|birth_year|gender|\n",
      "+--------------+-----------------+-----------------+----------+----------+------+\n",
      "|          2016|                4|           ISRAEL|        NY|      1985|     F|\n",
      "|          2016|                4|      SOUTH KOREA|        MI|      1980|     M|\n",
      "|          2016|                4|      SOUTH KOREA|        NY|      1964|     F|\n",
      "|          2016|                4|      SOUTH KOREA|        NJ|      1945|     F|\n",
      "|          2016|                4|      SOUTH KOREA|        NY|      1936|     M|\n",
      "+--------------+-----------------+-----------------+----------+----------+------+\n",
      "only showing top 5 rows\n",
      "\n"
     ]
    }
   ],
   "source": [
    "#show the first 05 rows of the immigration table \n",
    "df_im.show(5)"
   ]
  },
  {
   "cell_type": "code",
   "execution_count": 37,
   "metadata": {},
   "outputs": [],
   "source": [
    "#extract immigration table from the df_im dataframe\n",
    "immigration_table = df_im.selectExpr(\"immigration_yr as year\",\n",
    "                                     \"immigration_month as month\",\n",
    "                                     \"country_of_origin\",\n",
    "                                     \"state_code\",\n",
    "                                     \"birth_year\", \n",
    "                                     'gender')"
   ]
  },
  {
   "cell_type": "code",
   "execution_count": 38,
   "metadata": {},
   "outputs": [
    {
     "name": "stdout",
     "output_type": "stream",
     "text": [
      "+----+-----+-----------------+----------+----------+------+\n",
      "|year|month|country_of_origin|state_code|birth_year|gender|\n",
      "+----+-----+-----------------+----------+----------+------+\n",
      "|2016|    4|           ISRAEL|        NY|      1985|     F|\n",
      "|2016|    4|      SOUTH KOREA|        MI|      1980|     M|\n",
      "|2016|    4|      SOUTH KOREA|        NY|      1964|     F|\n",
      "|2016|    4|      SOUTH KOREA|        NJ|      1945|     F|\n",
      "|2016|    4|      SOUTH KOREA|        NY|      1936|     M|\n",
      "+----+-----+-----------------+----------+----------+------+\n",
      "only showing top 5 rows\n",
      "\n"
     ]
    }
   ],
   "source": [
    "#show the dimension table immigration_table \n",
    "immigration_table.show(5)"
   ]
  },
  {
   "cell_type": "code",
   "execution_count": 32,
   "metadata": {},
   "outputs": [],
   "source": [
    "# write dimension table to parquet files partitioned by year and month\n",
    "#immigration_table.write.partitionBy('state_code','year', 'month').parquet(os.path.join(output,'immigration_table'), 'overwrite')"
   ]
  },
  {
   "cell_type": "markdown",
   "metadata": {},
   "source": [
    "#### 4.A.2 Dimension Table-2\n",
    "\n",
    "+ demographics_table: city, state, median_age, number_of_immigrants, state_code, & race"
   ]
  },
  {
   "cell_type": "code",
   "execution_count": 39,
   "metadata": {},
   "outputs": [
    {
     "name": "stdout",
     "output_type": "stream",
     "text": [
      "+------------+-------------+----------+------------+----------+--------------------+\n",
      "|        city|        state|median_age|foreign_born|state_code|                race|\n",
      "+------------+-------------+----------+------------+----------+--------------------+\n",
      "|        Lynn|Massachusetts|      34.8|       29899|        MA|               Asian|\n",
      "| Gainesville|      Florida|      26.0|       15272|        FL|American Indian a...|\n",
      "|  Springdale|     Arkansas|      31.8|       19969|        AR|  Hispanic or Latino|\n",
      "| New Orleans|    Louisiana|      35.9|       21679|        LA|               White|\n",
      "|Murfreesboro|    Tennessee|      30.2|        8948|        TN|               Asian|\n",
      "+------------+-------------+----------+------------+----------+--------------------+\n",
      "only showing top 5 rows\n",
      "\n"
     ]
    }
   ],
   "source": [
    "#show the first 05 rows of the demographic table \n",
    "df_demo.show(5)"
   ]
  },
  {
   "cell_type": "code",
   "execution_count": 40,
   "metadata": {},
   "outputs": [],
   "source": [
    "#extract demographics_table from the df_demo dataframe\n",
    "demographics_table = df_demo.selectExpr(\"city \",\n",
    "                                       \"state\",\n",
    "                                        \"state_code\",\n",
    "                                        \"median_age\",\n",
    "                                       \"foreign_born as number_of_immigrants\",\n",
    "                                        \"race\"\n",
    "                                       )"
   ]
  },
  {
   "cell_type": "code",
   "execution_count": 41,
   "metadata": {},
   "outputs": [
    {
     "name": "stdout",
     "output_type": "stream",
     "text": [
      "+------------+-------------+----------+----------+--------------------+--------------------+\n",
      "|        city|        state|state_code|median_age|number_of_immigrants|                race|\n",
      "+------------+-------------+----------+----------+--------------------+--------------------+\n",
      "|        Lynn|Massachusetts|        MA|      34.8|               29899|               Asian|\n",
      "| Gainesville|      Florida|        FL|      26.0|               15272|American Indian a...|\n",
      "|  Springdale|     Arkansas|        AR|      31.8|               19969|  Hispanic or Latino|\n",
      "| New Orleans|    Louisiana|        LA|      35.9|               21679|               White|\n",
      "|Murfreesboro|    Tennessee|        TN|      30.2|                8948|               Asian|\n",
      "+------------+-------------+----------+----------+--------------------+--------------------+\n",
      "only showing top 5 rows\n",
      "\n"
     ]
    }
   ],
   "source": [
    "#show the first five rows of the demographics table\n",
    "demographics_table.show(5)"
   ]
  },
  {
   "cell_type": "code",
   "execution_count": 36,
   "metadata": {},
   "outputs": [],
   "source": [
    "# write dimension tables to parquet files partitioned by  state\n",
    "#demographics_table.write.partitionBy('state').parquet(os.path.join(output,'demographics_table'), 'overwrite')"
   ]
  },
  {
   "cell_type": "markdown",
   "metadata": {},
   "source": [
    "#### 4.A.3 Fact Table\n",
    "\n",
    "+ immigration_impact_table : state, new_immigrant_per_state, total_immigrants_per_state"
   ]
  },
  {
   "cell_type": "code",
   "execution_count": 42,
   "metadata": {},
   "outputs": [],
   "source": [
    "# count the number of new_immigrant_per_state\n",
    "immigrant_per_state_df = immigration_table.groupby('state_code').count()"
   ]
  },
  {
   "cell_type": "code",
   "execution_count": 43,
   "metadata": {},
   "outputs": [
    {
     "name": "stdout",
     "output_type": "stream",
     "text": [
      "+----------+-----+\n",
      "|state_code|count|\n",
      "+----------+-----+\n",
      "|        .N|    3|\n",
      "|        CI|    5|\n",
      "|        TC|    1|\n",
      "|        AZ| 5146|\n",
      "|        SC| 3070|\n",
      "+----------+-----+\n",
      "only showing top 5 rows\n",
      "\n"
     ]
    }
   ],
   "source": [
    "# show first 05 rows of the dataframe\n",
    "immigrant_per_state_df.show(5)"
   ]
  },
  {
   "cell_type": "code",
   "execution_count": 44,
   "metadata": {},
   "outputs": [],
   "source": [
    "#rename the dataframe column\n",
    "immigrant_per_state_df_1 =  immigrant_per_state_df.select(col(\"state_code\").alias(\"state_code_im\"),\n",
    "                                                          col(\"count\").alias(\"new_immigrant_per_state\"))"
   ]
  },
  {
   "cell_type": "code",
   "execution_count": 45,
   "metadata": {},
   "outputs": [
    {
     "name": "stdout",
     "output_type": "stream",
     "text": [
      "+-------------+-----------------------+\n",
      "|state_code_im|new_immigrant_per_state|\n",
      "+-------------+-----------------------+\n",
      "|           .N|                      3|\n",
      "|           CI|                      5|\n",
      "|           TC|                      1|\n",
      "|           AZ|                   5146|\n",
      "|           SC|                   3070|\n",
      "+-------------+-----------------------+\n",
      "only showing top 5 rows\n",
      "\n"
     ]
    }
   ],
   "source": [
    "#show the renamed dataframe\n",
    "immigrant_per_state_df_1.show(5)"
   ]
  },
  {
   "cell_type": "code",
   "execution_count": 48,
   "metadata": {},
   "outputs": [],
   "source": [
    "# country total_immigrants_per_state\n",
    "demo_count_df = demographics_table.groupby(\"state_code\").sum(('number_of_immigrants'))"
   ]
  },
  {
   "cell_type": "code",
   "execution_count": 49,
   "metadata": {},
   "outputs": [],
   "source": [
    "#show the total_immigrants_per_state table\n",
    "demo_count_df_1 =  demo_count_df.select(col(\"state_code\"),\n",
    "                                        col(\"sum(number_of_immigrants)\").alias(\"total_immigrants_per_state\"))"
   ]
  },
  {
   "cell_type": "code",
   "execution_count": 50,
   "metadata": {},
   "outputs": [
    {
     "name": "stdout",
     "output_type": "stream",
     "text": [
      "+----------+--------------------------+\n",
      "|state_code|total_immigrants_per_state|\n",
      "+----------+--------------------------+\n",
      "|        SC|                    134019|\n",
      "|        AZ|                   3411565|\n",
      "|        LA|                    417095|\n",
      "|        MN|                   1069888|\n",
      "|        NJ|                   2327750|\n",
      "+----------+--------------------------+\n",
      "only showing top 5 rows\n",
      "\n"
     ]
    }
   ],
   "source": [
    "#rename the dataframe column\n",
    "demo_count_df_1.show(5)"
   ]
  },
  {
   "cell_type": "code",
   "execution_count": 51,
   "metadata": {},
   "outputs": [],
   "source": [
    "#join the two table bases on the state_code\n",
    "immigration_impact_table_1 = immigrant_per_state_df_1.join(demo_count_df_1, \n",
    "                                                           (demo_count_df_1.state_code == immigrant_per_state_df_1.state_code_im),'inner')"
   ]
  },
  {
   "cell_type": "code",
   "execution_count": 52,
   "metadata": {},
   "outputs": [
    {
     "name": "stdout",
     "output_type": "stream",
     "text": [
      "+-------------+-----------------------+----------+--------------------------+\n",
      "|state_code_im|new_immigrant_per_state|state_code|total_immigrants_per_state|\n",
      "+-------------+-----------------------+----------+--------------------------+\n",
      "|           AZ|                   5146|        AZ|                   3411565|\n",
      "|           SC|                   3070|        SC|                    134019|\n",
      "|           LA|                   5576|        LA|                    417095|\n",
      "|           MN|                   4127|        MN|                   1069888|\n",
      "|           NJ|                  10269|        NJ|                   2327750|\n",
      "+-------------+-----------------------+----------+--------------------------+\n",
      "only showing top 5 rows\n",
      "\n"
     ]
    }
   ],
   "source": [
    "#show the dataframe created after joining the two dataframe based on state_code\n",
    "immigration_impact_table_1.show(5)"
   ]
  },
  {
   "cell_type": "code",
   "execution_count": 53,
   "metadata": {},
   "outputs": [],
   "source": [
    "#form the fact table with the required columns\n",
    "immigration_impact_table = immigration_impact_table_1.select(col(\"state_code\"),\n",
    "                                                             col(\"new_immigrant_per_state\"),\n",
    "                                                             col(\"total_immigrants_per_state\"))"
   ]
  },
  {
   "cell_type": "code",
   "execution_count": 54,
   "metadata": {},
   "outputs": [
    {
     "name": "stdout",
     "output_type": "stream",
     "text": [
      "+----------+-----------------------+--------------------------+\n",
      "|state_code|new_immigrant_per_state|total_immigrants_per_state|\n",
      "+----------+-----------------------+--------------------------+\n",
      "|        AZ|                   5146|                   3411565|\n",
      "|        SC|                   3070|                    134019|\n",
      "|        LA|                   5576|                    417095|\n",
      "|        MN|                   4127|                   1069888|\n",
      "|        NJ|                  10269|                   2327750|\n",
      "+----------+-----------------------+--------------------------+\n",
      "only showing top 5 rows\n",
      "\n"
     ]
    }
   ],
   "source": [
    "#show the fact table\n",
    "immigration_impact_table.show(5)"
   ]
  },
  {
   "cell_type": "code",
   "execution_count": 55,
   "metadata": {},
   "outputs": [
    {
     "data": {
      "text/plain": [
       "(48, 3)"
      ]
     },
     "execution_count": 55,
     "metadata": {},
     "output_type": "execute_result"
    }
   ],
   "source": [
    "# count the number of rows and columns in the fact table\n",
    "immigration_impact_table.count(), len(immigration_impact_table.columns)"
   ]
  },
  {
   "cell_type": "code",
   "execution_count": 56,
   "metadata": {},
   "outputs": [
    {
     "name": "stdout",
     "output_type": "stream",
     "text": [
      "root\n",
      " |-- state_code: string (nullable = true)\n",
      " |-- new_immigrant_per_state: long (nullable = false)\n",
      " |-- total_immigrants_per_state: long (nullable = true)\n",
      "\n"
     ]
    }
   ],
   "source": [
    "# show the columns and the data type of the fact table\n",
    "immigration_impact_table.printSchema()"
   ]
  },
  {
   "cell_type": "code",
   "execution_count": null,
   "metadata": {},
   "outputs": [],
   "source": [
    "# write fact tables to parquet files partitioned by state_code\n",
    "#immigration_impact_table.write.partitionBy('state_code').parquet(os.path.join(output,'immigration_impact_table'), 'overwrite')"
   ]
  },
  {
   "cell_type": "code",
   "execution_count": 57,
   "metadata": {},
   "outputs": [],
   "source": [
    "#emprty the output folder \n",
    "import shutil\n",
    "shutil.rmtree('output/demographics_table')\n",
    "shutil.rmtree('output/immigration_impact_table')\n",
    "shutil.rmtree('output/immigration_table')"
   ]
  },
  {
   "cell_type": "markdown",
   "metadata": {},
   "source": [
    "+ Note: Fact and dimension tables have been written in the output folder. However, it creates problem while submitting this large number of files and therefore the folders have been made empty. The command lines for writing the files have been commented so that it does not take long time while running this entire file. The fact and dimension tables can be created and saved by uncommenting and running the appropriate lines. "
   ]
  }
 ],
 "metadata": {
  "kernelspec": {
   "display_name": "Python 3",
   "language": "python",
   "name": "python3"
  },
  "language_info": {
   "codemirror_mode": {
    "name": "ipython",
    "version": 3
   },
   "file_extension": ".py",
   "mimetype": "text/x-python",
   "name": "python",
   "nbconvert_exporter": "python",
   "pygments_lexer": "ipython3",
   "version": "3.6.3"
  }
 },
 "nbformat": 4,
 "nbformat_minor": 4
}
